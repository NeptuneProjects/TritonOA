{
 "cells": [
  {
   "cell_type": "markdown",
   "id": "a8a1e26f",
   "metadata": {},
   "source": [
    "# How to run KRAKEN"
   ]
  },
  {
   "cell_type": "markdown",
   "id": "f4da64d8",
   "metadata": {},
   "source": [
    "Models in the Ocean Acoustics Toolbox stores environmental parameters in a \".env\" file.  This tutorial will describe the various parameters and how they are set.  The following can be repeated as many times as wanted in a single ENVFIL. KRAKEN and KRAKENC will generate a separate MODFIL for each case stopping when it detects an end-of-file."
   ]
  },
  {
   "cell_type": "code",
   "execution_count": 1,
   "id": "12f8ea57",
   "metadata": {},
   "outputs": [],
   "source": [
    "import os\n",
    "import sys\n",
    "sys.path.append(\"/Users/williamjenkins/Research/Code/TritonOA/\")\n",
    "\n",
    "import matplotlib as mpl\n",
    "from matplotlib import pyplot as plt\n",
    "import matplotlib.gridspec as gridspec\n",
    "import numpy as np\n",
    "import pandas as pd\n",
    "from scipy.interpolate import interp1d\n",
    "\n",
    "from TritonOA.env import env\n",
    "from TritonOA.io import readwrite"
   ]
  },
  {
   "cell_type": "markdown",
   "id": "3b297e96",
   "metadata": {},
   "source": [
    "## Block 1: Title\n",
    "\n",
    "Syntax:\n",
    ">*TITLE*\n",
    "\n",
    "Description:\n",
    ">TITLE: Title of run enclosed in sinqle quotes."
   ]
  },
  {
   "cell_type": "code",
   "execution_count": 2,
   "id": "969a87fd",
   "metadata": {},
   "outputs": [],
   "source": [
    "TITLE = 'TESTKRAKEN'"
   ]
  },
  {
   "cell_type": "markdown",
   "id": "c66ec75b",
   "metadata": {},
   "source": [
    "## Block 2: Frequency\n",
    "\n",
    "Syntax:\n",
    ">*FREQ*\n",
    "\n",
    "Description:\n",
    ">FREQ: Frequency in Hz."
   ]
  },
  {
   "cell_type": "code",
   "execution_count": 3,
   "id": "214e7cfb",
   "metadata": {},
   "outputs": [],
   "source": [
    "FREQ = 150"
   ]
  },
  {
   "cell_type": "markdown",
   "id": "8eaee16d",
   "metadata": {},
   "source": [
    "## Block 3: Number of Media\n",
    "\n",
    "Syntax:\n",
    ">*NMEDIA*\n",
    "\n",
    "Description:\n",
    ">NMEDIA: Number of media.\n",
    "<p>The problem is divided into media within which it is assumed that the material properties vary smoothly. A new medium should be used at fluid/elastic interfaces or at interfaces where the density changes discontinuously. The number of media in the problem is defined excluding the upper and lower half-space.\n",
    "<p>BELLHOP is limited to one medium (NMEDIA=1) and actually ignores this parameter."
   ]
  },
  {
   "cell_type": "code",
   "execution_count": 4,
   "id": "e354ce8c",
   "metadata": {},
   "outputs": [],
   "source": [
    "NMEDIA = 1"
   ]
  },
  {
   "cell_type": "markdown",
   "id": "e61415f9",
   "metadata": {},
   "source": [
    "## Block 4: Top Option\n",
    "\n",
    "Syntax:\n",
    ">*TOPOPT*\n",
    "\n",
    "Description:\n",
    ">TOPOPT(1:1): Type of interpolation to be used for the SSP.\n",
    ">>'C' for C-linear,\n",
    "<br>'N' for N2-linear (n the index of refraction),\n",
    "<br>'P' for PCHIP (Piecewise Cubic Hermite Interpolating Polynomial),\n",
    "<br>'S' for cubic Spline,\n",
    "<br>'Q' for Quadrilatteral 2D SSP (BELLHOP   only; reads the SSP from a file)\n",
    "<br>'H' for Hexahedral     3D SSP (BELLHOP3D only; reads the SSP from a file)\n",
    "<br>'A' for Analytic.\n",
    "<br>The user must modify the analytic formulas in ANALYT.FOR then re-compile and link.\n",
    "<br>\n",
    "<br>If you're not sure which option to take, I'd suggest you use 'C'.  The 'N' option is virtually identical to 'C'. It's provided to facilitate precise inter-model comparisons with codes that use a certain numerical technique that requires that type of interpolation. Both these piecewise-linear approximations can produce false caustics in BELLHOP; however, the Gaussian beam option in BELLHOP mitigates that effect to some degree.\n",
    "<br>\n",
    "<br>Option 'S' is a little dangerous because splines yield a poor fit to certain kinds of curves, e.g. curves with sharp bends.  If you insist on splines, you can fix a bad fit by dividing the water column into two 'media' at the bend.\n",
    "<br>\n",
    "<br>Option 'P' is a recently added option that is intended to provide a smooth interpolation without the artifacts that sometimes come with cubic splines. We will need to get some more experience with this, but the expectation is that this will often be the best choice for BELLHOP by providing a smoother profile free of false caustics.\n",
    "<br>\n",
    "<br>If 'A' is selected, then only the first line of block (5) for the SSP is used and the tabulated SSP itself is omitted.\n",
    "<br>\n",
    "<br>Run PLOTSSP to check that the SSP looks the way you thought it should. Apart from potential typos, this will also show up fit-problems.\n",
    "\n",
    ">TOPOPT(2:2): Type of top boundary condition\n",
    ">>'V' VACUUM above top\n",
    "<br>'A' ACOUSTO-ELASTIC half-space.\n",
    "<br>Requires another line with the halfspace parameters as described in block (4a).\n",
    "<br>'R' Perfectly RIGID\n",
    "<br>'F' Reflection coefficient from a FILE\n",
    "<br>\n",
    "<br>These files for complicated, multi-layered media can be generated using BOUNCE. (Available in KRAKENC, SCOOTER, and BELLHOP. Not available in KRAKEN and SPARC.) For a Top Reflection Coefficient, the file should have the extension '.TRC'. For KRAKEN/KRAKENC this option for tabulated reflection coefficients is somewhat experimental at this time. A complicated reflection coefficient may well cause problems for the mode-finder. Finally, a reflection coefficient tabulated only for real angles does not provide a good result for complex angles of incidence. This happens when the sediment sound speed is less than the water sound speed. In that case, the modes are evanescent in the upper part of the water column and therefore have a complex angle of incidence.\n",
    "<br>\n",
    "<br>For open ocean problems option 'V' should be used for the top BC.\n",
    "\n",
    ">TOPOPT(3:3): Attenuation units.\n",
    ">>'N' Nepers/m.\n",
    "<br>'F' dB/(kmHz)       (F as in Freq. dependent)\n",
    "<br>'M' dB/m            (M as in per Meter)\n",
    "<br>'m' dB/m            (m as in per Meter) Scaled with frequency; quadratically, then linearly above fT\n",
    "<br>'W' dB/wavelength   (W as in per Wavelength)\n",
    "<br>'Q' quality factor\n",
    "<br>'L' Loss parameter (a.k.a. loss tangent)\n",
    "<br>\n",
    "<br>KRAKEN ignores material attenuation in elastic media. (KRAKENC treats it properly).\n",
    "The option 'm' for attenuation is a new one designed to capture a power-law frequency dependence. You provide an attenuation in dB/m at the frequency specified above (FREQ). Then in a broadband run, with multiple frequencies that attenuation as automatically scaled according to the power that you specify.\n",
    "<br>\n",
    "<br>***The power-law scaling is based on the frequency to a power beta, up to a transition frequency, fT. Above fT, the scaling is linear with frequency. The parameters that control this are specified in the first line of block (5) and block (6) and allow a different beta and fT to be specified independently for every layer. The actual attenuation in dB/m is the value at the reference frequency given in block (2) above.***\n",
    "<br>\n",
    "<br>If you use 'm' without doing a broadband run, then 'M' and 'm' will do the same thing, i.e. interpret your attenuation as dB/m at the given frequency.\n",
    "\n",
    ">TOPOPT(4:4): Added volume attenuation.\n",
    ">>'T' Thorp attenuation formula.\n",
    "<br>'F' Francois-Garrison formula (more accurate).\n",
    "<br>'B' Biological layer (fish).\n",
    "<br>\n",
    "<br>If you invoke this option, volume attenuation is added to the explicitly specified attenuation (ap, as).\n",
    "The Francois-Garrison formula depends on salinity (S), temperature (T), pH, and depth (z_bar). That information is then provided on the line immediately following, e.g.:\n",
    "<br>`   19.3 33.5 7.5 4000.7   !  T, Salinity, pH, z_bar`\n",
    "\n",
    ">TOPOPT(5:5): Altimetry option; Slow/robust root-finder.\n",
    ">>'~' Read in a *.ati file containing the top altimetry. (BELLHOP only; '*' was used earlier and still works)\n",
    "<br>'_' Flat surface, i.e. no altimetry file. (BELLHOP only; this is the default if blank)\n",
    "<br> '.' As in: I want all the modes and I don't care how long it takes. Period.\n",
    "<br>\n",
    "<br>The '.' option works only with KRAKENC, which sometimes has trouble finding a complete set of modes in the complex plane.\n",
    "\n",
    ">TOPOPT(6:6): Single beam (BELLHOP only)\n",
    ">>'I' Calculate only a single beam from the specified fan.\n",
    "<br>    The actual beam number is specified after NBEAMS, under\n",
    "<br>    the section describing the beam fan.\n",
    "<br>' ' Default: trace all beams\n",
    "<br>\n",
    "<br>Broadband run (currently implemented in KRAKEN and SCOOTER)\n",
    "<br>'B' Select a broadband run where multiple frequencies are specified\n",
    "\n",
    ">TOPOPT(7:7): Use 0 (zero) to disable stabilizing attenuation in SCOOTER"
   ]
  },
  {
   "cell_type": "code",
   "execution_count": 5,
   "id": "e9f213e4",
   "metadata": {},
   "outputs": [],
   "source": [
    "TOPOPT = \"CVF\""
   ]
  },
  {
   "cell_type": "markdown",
   "id": "ff1e1c9d",
   "metadata": {},
   "source": [
    "### Block 4a: Top Halfspace Properties\n",
    "\n",
    "Syntax:\n",
    ">ZT  CPT  CST  RHOT  APT  AST\n",
    "\n",
    "Description:\n",
    ">ZT:   Depth (m).\n",
    "<br>CPT:  Top P-wave speed (m/s).\n",
    "<br>CST:  Top S-wave speed (m/s).\n",
    "<br>RHOT: Top density (g/cm3).\n",
    "<br>APT:  Top P-wave attenuation. (units as given by Option(3:3) )\n",
    "<br>AST:  Top S-wave attenuation. (  \"   \"    \"    \"   \"   \"     )\n",
    "\n",
    "This line should only be included if TOPOPT(2:2)='A', i.e. if the user has specified a homogeneous halfspace for the top BC."
   ]
  },
  {
   "cell_type": "code",
   "execution_count": 6,
   "id": "d4515e22",
   "metadata": {
    "code_folding": []
   },
   "outputs": [],
   "source": [
    "top_halfspace_flag = False\n",
    "if top_halfspace_flag:\n",
    "    ZT = 0\n",
    "    CPT = 0\n",
    "    CST = 0\n",
    "    RHOT = 0\n",
    "    APT = 0\n",
    "    AST = 0"
   ]
  },
  {
   "cell_type": "markdown",
   "id": "04d91c11",
   "metadata": {},
   "source": [
    "### Block 4b: Biological Layer Parameters (for attenuation due to fish)\n",
    "\n",
    "Syntax:\n",
    ">NBioLayers\n",
    "<br>Z1(1)  Z2(1)  f0(1)   Q(1)   a0(1)\n",
    "<br>Z1(2)  Z2(2)  f0(2)   Q(2)   a0(2)\n",
    "<br>...\n",
    "<br>Z1(NBioLayers)  Z2(NBioLayers)  f0(NBioLayers)   Q(NBioLayers)   a0(NBioLayers)\n",
    "\n",
    "Description:\n",
    ">z1: Top    of layer (m)\n",
    "<br>z2: Bottom of layer (m)\n",
    "<br>f0: Resonance frequency (Hz)\n",
    "<br>Q:  Quality factor\n",
    "<br>a0: Amplitude in dB/km at resonance but scaled by Q^2\n",
    "<br>\n",
    "<br>The loss becomes a = a0 / [ ( 1 - f0^2 / freq^2 )^2 + 1 / Q^2 ] dB / km (formula suggested by Orest Diachok).\n",
    "<br>The units here in dB/km are not affected by the attenuation units selected in TopOpt( 3 : 3 )."
   ]
  },
  {
   "cell_type": "code",
   "execution_count": 7,
   "id": "e3eb0d61",
   "metadata": {
    "code_folding": []
   },
   "outputs": [],
   "source": [
    "# Not implemented."
   ]
  },
  {
   "cell_type": "markdown",
   "id": "7b882991",
   "metadata": {},
   "source": [
    "## Block 5: Sound Speed Profile\n",
    "\n",
    "Syntax:\n",
    ">NMESH  SIGMA  Z(NSSP)\n",
    "<br>Z(1)     CP(1)     CS(1)     RHO(1)     AP(1)     AS(1)\n",
    "<br>Z(2)     CP(2)     CS(2)     RHO(2)     AP(2)     AS(2)\n",
    "<br>...\n",
    "<br>Z(NSSP)  CP(NSSP)  CS(NSSP)  RHO(NSSP)  AP(NSSP)  AS(NSSP)\n",
    "\n",
    "Description:\n",
    ">NMESH:   Number of mesh points used in the internal discretization.\n",
    ">>The number of mesh points should be about 10 per vertical wavelength in acoustic media. In elastic media, the number needed can vary quite a bit; 20 per wavelength is a reasonable starting point. For elastic media, the wavelength associated with the shear wave speed is the reference; this is always shorter than that for the p-wave.\n",
    "<br>\n",
    "<br>The number of mesh points used depends on the initial mesh and the number of times it is refined (doubled). <br>The number of mesh doublings can vary from 1 to 5 depending on the parameter RMAX described below.\n",
    "<br>\n",
    "<br>If you type 0 for the number of mesh points, the code will calculate NMESH automatically.\n",
    "<br>\n",
    "<br>BELLHOP ignores this parameter as it's not relevant to its numerical technique.\n",
    "\n",
    ">SIGMA:   RMS roughness at the interface (ignored by BELLHOP and SPARC)\n",
    "\n",
    ">Z(NSSP): Depth at bottom of medium (m).\n",
    ">>This value is used to detect the last SSP point when reading in the profile that follows/\n",
    "\n",
    ">Z():     Depth (m).\n",
    ">>The surface starts at the first depth point specified. Thus if you have say, XBT data which starts at 50 m below the surface, then you'll need to put in some SSP point at 0 m, otherwise the free-surface would be placed at 50 m giving erroneous results. The points Z(1) and Z(NSSP) MUST correspond to the depths of interfaces between media.\n",
    "\n",
    ">***If the attenuation units were specified with option letter 'm' and a broadband run is selected, then the attenuation is scaled with frequency. The scaling is based on the frequency to a power beta, up to a transition frequency, fT. Above fT, the scaling is linear with frequency. The parameters that control this are specified in the first line of this block using the syntax:***\n",
    ">>NMESH  SIGMA  Z(NSSP)  beta  fT\n",
    "<br>\n",
    "<br>where,\n",
    "<br>BETA:  Power for the power law\n",
    "<br>fT:  Transition frequency (Hz)\n",
    "\n",
    ">CP():    P-wave speed (m/s).\n",
    "\n",
    ">CS():    S-wave speed (m/s).\n",
    "\n",
    ">RHO():   Density (g/cm3).\n",
    ">>Density variations within an acoustic medium are at present ignored.\n",
    "\n",
    ">AP():    P-wave attenuation (units as given in Block 2)\n",
    "\n",
    ">AS():    S-wave attenuation (  \"   \"    \"    \"   \"   \")\n",
    "\n",
    ">These lines giving the SSP should be omitted when the 'A' option is used (indicating that an analytic profile is supplied by a user written subroutine).\n",
    "<br>\n",
    "<br>The '/' character signals that the remaining data on the line is the same as in the previous line of SSP data. For the very first line the default or 'previous' line is:\n",
    "<br>`0.0 1500.0 0.0 1.0 0.0 0.0`\n",
    "<br>\n",
    "<br>This block should be repeated for each subsequent medium.\n",
    "<br>\n",
    "<br>Only KRAKEN, SCOOTER, and BOUNCE can use the shear wave information. SPARC and BELLHOP ignore it."
   ]
  },
  {
   "cell_type": "code",
   "execution_count": 8,
   "id": "4ff1269c",
   "metadata": {},
   "outputs": [],
   "source": [
    "NMESH = 100\n",
    "SIGMA_TOP = 2\n",
    "ZB = 100\n",
    "\n",
    "SSP_TYPE = \"isospeed\"\n",
    "\n",
    "Z = np.linspace(0,ZB,NMESH)\n",
    "if SSP_TYPE == \"isospeed\":\n",
    "    CP = 1500 * np.ones(Z.shape)\n",
    "elif SSP_TYPE == \"positive\":\n",
    "    CP = np.linspace(1440, 1500, NMESH)\n",
    "elif SSP_TYPE == \"negative\":\n",
    "    CP = np.linspace(1525, 1475, NMESH)\n",
    "elif SSP_TYPE == \"defined\":\n",
    "    CP = np.zeros(Z.shape)\n",
    "elif SSP_TYPE == \"read\":\n",
    "    df = pd.read_csv(\"/Users/williamjenkins/Documents/SIO/Travel/2021 Norway UAK/Acoustic_positioning_exercise/Software/XBT.csv\")\n",
    "    Z_BT = np.array(df.Var1)\n",
    "    CP_BT = np.array(df.Var2)\n",
    "    f = interp1d(Z_BT, CP_BT)\n",
    "    CP = f(Z)\n",
    "    CP[0:5] = 1442\n",
    "\n",
    "CS = 0 * np.ones(Z.shape)\n",
    "RHO = 1.035 * np.ones(Z.shape)\n",
    "AP = 0 * np.ones(Z.shape)\n",
    "AS = 0 * np.ones(Z.shape)\n",
    "\n",
    "ssp = env.SSPraw(Z, CP, CS, RHO, AP, AS)"
   ]
  },
  {
   "cell_type": "markdown",
   "id": "dca6fb23",
   "metadata": {},
   "source": [
    "## Block 6: Bottom Option\n",
    "\n",
    "Syntax:\n",
    ">*BOTOPT SIGMA*\n",
    "\n",
    "or, if the power-law attenuation option 'm' was selected:\n",
    ">*BOTOPT  SIGMA BETA fT*\n",
    "\n",
    "Description:\n",
    ">BOTOPT(1:1): Type of bottom boundary condition.\n",
    ">>'V' VACUUM below bottom.\n",
    "<br>'A' ACOUSTO-ELASTIC half-space. Requires another line with the half-space parameters as described in Block (6a).\n",
    "<br>'R' Perfectly RIGID.\n",
    "<br>'G' Grain size\n",
    "<br>'F' Reflection coefficient from a FILE\n",
    "<br>\n",
    "<br>These files for complicated, multi-layered media can be generated using BOUNCE. (Available in KRAKENC, SCOOTER, and BELLHOP. Not available in KRAKEN and SPARC.) For a Bottom Reflection Coefficient, the file should have the extension '.BRC'. For KRAKEN/KRAKENC this option for tabulated reflection coefficients is somewhat experimental at this time. A complicated reflection coefficient may well cause problems for the mode-finder. Finally, a reflection coefficient tabulated only for real angles does not provide a good result for complex angles of incidence. This happens when the sediment sound speed is less than the water sound speed. In that case, the modes are evanescent in the upper part of the water column and therefore have a complex angle of incidence.\n",
    "<br>\n",
    "<br>'P' Precaculated internal reflection coefficient from a FILE (available in KRAKENC and SCOOTER, not KRAKEN).\n",
    "    These files are generated using BOUNCE.\n",
    "<br>\n",
    "<br>Option 'A' is generally used for ocean bottom modeling.\n",
    "\n",
    ">BOTOPT(2:2):\n",
    ">>    '~' Read in a *.bty file containing the bottom bathymetry. (BELLHOP only; '*' was used earlier and still works)\n",
    "<br>    '_' Flat surface, i.e. no bathymetry file. (BELLHOP only; this is the default if blank)\n",
    "\n",
    ">SIGMA:  Interfacial roughness (m).\n",
    "\n",
    ">BETA:   Power for the power law\n",
    "\n",
    ">fT:     Transition frequency (Hz)"
   ]
  },
  {
   "cell_type": "code",
   "execution_count": 9,
   "id": "8b9a13ce",
   "metadata": {},
   "outputs": [],
   "source": [
    "BOTOPT = \"A\"\n",
    "SIGMA_BOT = 1"
   ]
  },
  {
   "cell_type": "markdown",
   "id": "19d92b65",
   "metadata": {},
   "source": [
    "### Block 6b: Bottom Halfspace Properties from geoacoustic values\n",
    "\n",
    "Syntax:\n",
    ">*ZB  CPB  CSB  RHOB  APB  ASB*\n",
    "\n",
    "Description:\n",
    ">ZB:   Depth (m).\n",
    "\n",
    ">CPB:  Bottom P-wave speed (m/s).\n",
    "\n",
    ">CSB:  Bottom S-wave speed (m/s).\n",
    "\n",
    ">RHOB: Bottom density (g/cm3).\n",
    "\n",
    ">APB:  Bottom P-wave attenuation. (units as given by TOPOPT(3:3) )\n",
    "\n",
    ">ASB:  Bottom S-wave attenuation. (  \"   \"    \"    \"   \"   \"     )\n",
    "\n",
    "This line should only be included if BOTOPT(1:1)='A', i.e. if the user has specified a homogeneous halfspace for the bottom BC.\n",
    " \n",
    "These lines should be contained in a separate '.BRC' file. This file is only required if BOTOPT(2:2)='F', i.e. if the user has specified that the bottom BC is read from a '.BRC' (Bottom Reflection Coefficient) file.\n",
    "\n",
    "For KRAKEN/KRAKENC this option for tabulated reflection coefficients is somewhat experimental at this time. A complicated reflection coefficient may well cause problems for the mode-finder. Finally, a reflection coefficient tabulated only for real angles does not provide a good result for complex angles of incidence. This happens when the sediment sound speed is less than the water sound speed. In that case, the modes are evanescent in the upper part of the water column and therefore have a complex angle of incidence."
   ]
  },
  {
   "cell_type": "code",
   "execution_count": 10,
   "id": "db662b5f",
   "metadata": {},
   "outputs": [],
   "source": [
    "CPB = 5000\n",
    "CSB = 0\n",
    "RHOB = 3.8\n",
    "APB = 0.2\n",
    "ASB = 0"
   ]
  },
  {
   "cell_type": "markdown",
   "id": "3fcf00eb",
   "metadata": {},
   "source": [
    "### Block 6c: Bottom Halfspace Properties from grain size\n",
    "\n",
    "Syntax:\n",
    ">*ZB  MZ*\n",
    "\n",
    "Description:\n",
    ">ZB:  Depth (m).\n",
    "\n",
    ">MZ:  Grain size (phi units).\n",
    "\n",
    "This line should only be included if BOTOPT(1:1)='G', i.e. if the user has specified a homogeneous halfspace for the bottom BC defined by grain size. The bottom sound speed, attenuation, and density is calculated using formulas from the UW_APL High-Frequency handbook."
   ]
  },
  {
   "cell_type": "code",
   "execution_count": null,
   "id": "dada090b",
   "metadata": {},
   "outputs": [],
   "source": []
  },
  {
   "cell_type": "markdown",
   "id": "5d3b10d2",
   "metadata": {},
   "source": [
    "---\n",
    "## Append model-specific parameters:"
   ]
  },
  {
   "cell_type": "markdown",
   "id": "4696f165",
   "metadata": {},
   "source": [
    "---\n",
    "### KRAKEN"
   ]
  },
  {
   "cell_type": "markdown",
   "id": "b2754d71",
   "metadata": {},
   "source": [
    "### Block 7: Phase Speed Limits\n",
    "Syntax:\n",
    ">*CLOW CHIGH*\n",
    "\n",
    "Description:\n",
    ">CLOW:  Depth (m).\n",
    ">>Lower phase speed limit (m/s).\n",
    "<br>CLOW will be computed automatically if you set it to zero. However, by using a nonzero CLOW you can skip the computation of slower modes. Mainly this is used to exclude interfacial modes (e.g.a Scholte wave).  The root finder is especially slow in converging to these interfacial modes and when the source and receiver are sufficiently are far from the interface the interfacial modes are negligible.\n",
    " \n",
    ">CHIGH:  Upper phase speed limit (m/s).\n",
    ">>The larger CHIGH is, the more modes are calculated and the longer the execution time. Therefore CHIGH should be set as small aspossible to minimize execution time.\n",
    "<br>\n",
    "<br>On the other hand, CHIGH controls the maximumray angle included in a subsequent field calculation-- ray paths are included which turn at the depth corresponding to CHIGH in the SSP. Thus a larger CHIGH means more deeply penetrating rays are included.\n",
    "<br>\n",
    "<br>Choice of CHIGH then becomes a matter of experience.  In the far-field and at high-frequencies, rays travelling in the ocean bottom are severely attenuated and one may set CHIGH to the sound speed at the ocean bottom. Inthe near-field, low-frequency case, rays refracted in the bottom may contribute significantly to the field and CHIGH should be chosen to include such ray paths.\n",
    "<br>\n",
    "<br>KRAKEN will (if necessary) reduce CHIGH so that only trapped (non-leaky) modes are computed.\n",
    "<br>\n",
    "<br>KRAKENC will attempt to compute leaky modes if CHIGH exceeds the phase velocity of either the S-wave or P-wave speed in the half-space. Leaky mode computations are somewhat experimental at this time."
   ]
  },
  {
   "cell_type": "code",
   "execution_count": 11,
   "id": "532fec56",
   "metadata": {},
   "outputs": [],
   "source": [
    "CLOW = 0\n",
    "CHIGH = CPB"
   ]
  },
  {
   "cell_type": "markdown",
   "id": "cc208591",
   "metadata": {},
   "source": [
    "### Block 8: Maximum Range\n",
    "\n",
    "Syntax:\n",
    ">*RMAX*\n",
    "\n",
    "Description:\n",
    ">RMAX: Maximum range (km).\n",
    ">>This parameter should be set to the largest range for which a field calculation will be desired.\n",
    "<br>\n",
    "<br>During the mode calculation the mesh is doubled successively until the eigenvalues are sufficiently accurate at this range. If you set it to zero, then no mesh doublings will be performed. You don't need to worry too much about this parameter-- even if you set it to zero the results will usually be reasonable."
   ]
  },
  {
   "cell_type": "code",
   "execution_count": 12,
   "id": "667aef18",
   "metadata": {},
   "outputs": [],
   "source": [
    "RMAX = 5"
   ]
  },
  {
   "cell_type": "markdown",
   "id": "3e0f188e",
   "metadata": {},
   "source": [
    "### Block 9: Source/Receiver Depths\n",
    "\n",
    "Syntax:\n",
    ">*NSD*\n",
    "*SD(1:NSD)*\n",
    "*NRD*\n",
    "*RD(1:NRD)*\n",
    "\n",
    "Description:\n",
    ">NSD:  Number of source   depths.\n",
    "\n",
    ">SD(): Source   depths (m).\n",
    "\n",
    ">NRD:  Number of receiver depths.\n",
    "\n",
    ">RD(): Receiver depths (m).\n",
    "\n",
    "This data is read in using list-directed I/O so you can type it just about any way you want, e.g. on one line or split onto several lines.  Also if your depths are equally spaced then you can type just the first and last depths followed by a '/' and the intermediate depths will be generated automatically.\n",
    " \n",
    "CPU time is essentially independent of the number of sources and receivers so that you can freely ask for thousands of depths. However, for high-frequencies the storage for the mode files can be excessive.\n",
    " \n",
    "The source/rcvr depths are sorted and merged and then the modes are calculated at the union of the two sets of depths. Thus, it doesn't matter if you mix up source and receiver depths. Furthermore, you can leave out either the source or receiver specification (but not both simultaneously) simply by using a '/' for that line.\n",
    " \n",
    "Sources and receivers cannot be placed in a half-space.\n",
    " \n",
    "If you are going to be doing a coupled-mode calculation then you must specify a large number of receiver depths spanning the entire column (down to the half-space). Fine sampling (about 10 points/wavelength) is needed to calculate the coupling integrals accurately."
   ]
  },
  {
   "cell_type": "code",
   "execution_count": 13,
   "id": "01c60748",
   "metadata": {},
   "outputs": [],
   "source": [
    "NSD = 1\n",
    "SD = 50\n",
    "NRD = NMESH\n",
    "RD = Z"
   ]
  },
  {
   "cell_type": "markdown",
   "id": "7b0aa023",
   "metadata": {},
   "source": [
    "### Write environment file:"
   ]
  },
  {
   "cell_type": "code",
   "execution_count": 14,
   "id": "d0173e79",
   "metadata": {},
   "outputs": [
    {
     "name": "stdout",
     "output_type": "stream",
     "text": [
      "0\n"
     ]
    }
   ],
   "source": [
    "top = env.TopBndry(TOPOPT)\n",
    "halfspace = env.HS(CPB, CSB, RHOB, APB, ASB)\n",
    "bottom = env.BotBndry(BOTOPT, halfspace)\n",
    "bdy = env.Bndry(top, bottom)\n",
    "\n",
    "depth = [0, ZB]\n",
    "ssp_list = [ssp]\n",
    "NMESH = [NMESH]\n",
    "sigma = [SIGMA_TOP, SIGMA_BOT] # Roughness at each layer; only affects attenuation (imag. part)\n",
    "ssp = env.SSP(ssp_list, depth, NMEDIA, TOPOPT, NMESH, sigma)\n",
    "\n",
    "cInt = env.cInt(CLOW, CHIGH)\n",
    "\n",
    "s = env.Source([SD])\n",
    "X = np.arange(0, RMAX, 0.001)\n",
    "r = env.Dom(X, Z)\n",
    "pos = env.Pos(s,r)\n",
    "# pos.s.depth = [SD]\n",
    "pos.Nsd = NSD\n",
    "pos.Nrd = NRD\n",
    "\n",
    "readwrite.write_env(f\"{TITLE}.env\", \"KRAKEN\", TITLE, FREQ, ssp, bdy, pos, [], cInt, RMAX)"
   ]
  },
  {
   "cell_type": "code",
   "execution_count": 15,
   "id": "53f96931",
   "metadata": {},
   "outputs": [
    {
     "data": {
      "text/plain": [
       "array([0.000e+00, 1.000e-03, 2.000e-03, ..., 4.997e+00, 4.998e+00,\n",
       "       4.999e+00])"
      ]
     },
     "execution_count": 15,
     "metadata": {},
     "output_type": "execute_result"
    }
   ],
   "source": [
    "X"
   ]
  },
  {
   "cell_type": "code",
   "execution_count": 16,
   "id": "d3b72c60",
   "metadata": {},
   "outputs": [],
   "source": [
    "readwrite.write_fieldflp(TITLE, \"R\", pos)"
   ]
  },
  {
   "cell_type": "code",
   "execution_count": 17,
   "id": "385e53ce",
   "metadata": {},
   "outputs": [
    {
     "data": {
      "text/plain": [
       "0"
      ]
     },
     "execution_count": 17,
     "metadata": {},
     "output_type": "execute_result"
    }
   ],
   "source": [
    "os.system(f\"krakenc.exe {TITLE}\")\n",
    "os.system(f\"field.exe {TITLE}\")"
   ]
  },
  {
   "cell_type": "code",
   "execution_count": 18,
   "id": "a5054123",
   "metadata": {},
   "outputs": [],
   "source": [
    "# options = {\"fname\": f\"{TITLE}.mod\", \"freq\": 0}\n",
    "# modes = readwrite.read_modes(**options)\n",
    "# delta_k = np.max(modes.k.real) - np.min(modes.k.real)\n",
    "# bandwidth = delta_k * 2.5 / 2 / (2*np.pi)\n",
    "\n",
    "# print(modes)\n",
    "# print(modes.k)\n",
    "\n",
    "# print(\"Range cell size (m):\", 2 * np.pi / delta_k)\n",
    "# print(\"Bandwidth (Hz):\", bandwidth)\n",
    "# print(\"Coherence time (s):\", 1 / bandwidth)\n",
    "# print(\"Cell cross time (s):\", 2 * np.pi / delta_k / 2.5)\n",
    "\n",
    "# modes.plot()"
   ]
  },
  {
   "cell_type": "code",
   "execution_count": 19,
   "id": "4d154dc0",
   "metadata": {},
   "outputs": [
    {
     "data": {
      "image/png": "[encoded data removed]",
      "text/plain": [
       "<Figure size 864x648 with 3 Axes>"
      ]
     },
     "metadata": {
      "needs_background": "light"
     },
     "output_type": "display_data"
    }
   ],
   "source": [
    "[x, x, x, x, Pos1, pressure_complex] = readwrite.read_shd(f\"{TITLE}.shd\")\n",
    "pressure = abs(pressure_complex)\n",
    "pressure[pressure == 0] = 1e-30\n",
    "pressure = 10 * np.log10(pressure / np.max(pressure))\n",
    "levs = np.linspace(np.min(pressure), np.max(pressure), 40)\n",
    "\n",
    "fig = plt.figure(figsize=(12,9))\n",
    "gs = gridspec.GridSpec(nrows=1, ncols=2, wspace=0, width_ratios=[1, 6])\n",
    "\n",
    "ax1 = fig.add_subplot(gs[0])\n",
    "ax1 = plt.subplot(1, 2, 1)\n",
    "plt.plot(CP, Z)\n",
    "plt.plot(CP[[0, -1]], [SD, SD], 'r')\n",
    "ax1.invert_yaxis()\n",
    "plt.ylim(ZB,0)\n",
    "plt.xlabel(\"C (m/s)\")\n",
    "plt.ylabel(\"Depth (m)\")\n",
    "plt.text(CP[0]-15, SD, \"Source\", va=\"center\")\n",
    "\n",
    "ax2 = fig.add_subplot(gs[1])\n",
    "vmin = -40\n",
    "vmax = 0\n",
    "plt.contourf(Pos1.r.range, Pos1.r.depth, (pressure[0, 0, :, :]), levels=levs, cmap=\"jet\", vmin=vmin, vmax=vmax)\n",
    "# plt.imshow(pressure[0, 0, :, :])\n",
    "plt.gca().invert_yaxis()\n",
    "plt.yticks([])\n",
    "plt.xlabel(\"Range (m)\")\n",
    "# plt.ylabel(\"Depth (m)\")\n",
    "norm = mpl.colors.Normalize(vmin=vmin, vmax=vmax)\n",
    "# cbar = plt.colorbar(mpl.cm.ScalarMappable(norm=norm, cmap=cmap_spec))\n",
    "cbar = plt.colorbar(mpl.cm.ScalarMappable(norm=norm, cmap=\"jet\"))\n",
    "cbar.set_label(\"SPL (dB)\")\n",
    "plt.scatter(0, SD, s=500, c=\"r\", marker=\".\")\n",
    "\n",
    "plt.title(f\"Freq = {FREQ} Hz        SD = {SD} m\")\n",
    "\n",
    "plt.show()"
   ]
  },
  {
   "cell_type": "code",
   "execution_count": 20,
   "id": "73f09c76",
   "metadata": {},
   "outputs": [
    {
     "data": {
      "text/plain": [
       "array([[[[-1.75267312e-14-1.72429582e-14j,\n",
       "          -1.86323006e-14-9.59278026e-15j,\n",
       "          -1.21795638e-14-2.72213519e-15j, ...,\n",
       "           1.28590851e-17+1.07739944e-16j,\n",
       "           7.36846269e-17+7.96271189e-17j,\n",
       "           1.06391302e-16+2.11532632e-17j],\n",
       "         [ 4.78171930e-03-2.61382014e-03j,\n",
       "           5.00720693e-03-2.36639730e-03j,\n",
       "           3.88661772e-03-1.77152932e-03j, ...,\n",
       "           5.24467214e-05+8.90187221e-05j,\n",
       "           9.47372682e-05+4.19995158e-05j,\n",
       "           1.01785256e-04-2.10177277e-05j],\n",
       "         [ 7.35617056e-03-3.82356718e-03j,\n",
       "           7.87444226e-03-3.31046409e-03j,\n",
       "           6.25267345e-03-2.45348900e-03j, ...,\n",
       "           1.04050632e-04+1.77423950e-04j,\n",
       "           1.88426769e-04+8.39839777e-05j,\n",
       "           2.02701485e-04-4.14405149e-05j],\n",
       "         ...,\n",
       "         [ 2.38052141e-02-1.96678992e-02j,\n",
       "           1.86376348e-02-2.31805369e-02j,\n",
       "           9.30771977e-03-1.80945694e-02j, ...,\n",
       "           2.81034241e-04+5.29508805e-04j,\n",
       "           5.40146022e-04+2.68384407e-04j,\n",
       "           5.98975515e-04-9.68800159e-05j],\n",
       "         [ 4.82572354e-02-4.04872335e-02j,\n",
       "           3.72572392e-02-4.79347818e-02j,\n",
       "           1.80415474e-02-3.73992622e-02j, ...,\n",
       "           2.55304854e-04+4.68054990e-04j,\n",
       "           4.83112264e-04+2.33313156e-04j,\n",
       "           5.31867146e-04-9.20777165e-05j],\n",
       "         [ 5.58735691e-02-4.71032821e-02j,\n",
       "           4.29727472e-02-5.58185205e-02j,\n",
       "           2.06319671e-02-4.35369648e-02j, ...,\n",
       "           2.23604686e-04+4.04697814e-04j,\n",
       "           4.20063850e-04+2.00101596e-04j,\n",
       "           4.60869807e-04-8.22894654e-05j]]]])"
      ]
     },
     "execution_count": 20,
     "metadata": {},
     "output_type": "execute_result"
    }
   ],
   "source": [
    "pressure_complex"
   ]
  },
  {
   "cell_type": "code",
   "execution_count": null,
   "id": "663d227c",
   "metadata": {},
   "outputs": [],
   "source": []
  }
 ],
 "metadata": {
  "kernelspec": {
   "display_name": "TritonOA",
   "language": "python",
   "name": "tritonoa"
  },
  "language_info": {
   "codemirror_mode": {
    "name": "ipython",
    "version": 3
   },
   "file_extension": ".py",
   "mimetype": "text/x-python",
   "name": "python",
   "nbconvert_exporter": "python",
   "pygments_lexer": "ipython3",
   "version": "3.9.4"
  }
 },
 "nbformat": 4,
 "nbformat_minor": 5
}
